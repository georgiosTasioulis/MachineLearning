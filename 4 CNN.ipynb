{
  "nbformat": 4,
  "nbformat_minor": 0,
  "metadata": {
    "colab": {
      "provenance": [],
      "collapsed_sections": []
    },
    "kernelspec": {
      "name": "python3",
      "display_name": "Python 3"
    },
    "accelerator": "GPU"
  },
  "cells": [
    {
      "cell_type": "code",
      "metadata": {
        "id": "pmNpq8GML1jW"
      },
      "source": [
        "import tensorflow as tf"
      ],
      "execution_count": null,
      "outputs": []
    },
    {
      "cell_type": "code",
      "metadata": {
        "id": "cBJh6ib6MEIW"
      },
      "source": [
        "import numpy as np\n",
        "import matplotlib.pyplot as plt\n",
        "from tensorflow.keras.layers import Input, Conv2D, Dense, Flatten, Dropout, GlobalMaxPooling2D, MaxPooling2D, BatchNormalization\n",
        "from tensorflow.keras.models import Model"
      ],
      "execution_count": null,
      "outputs": []
    },
    {
      "cell_type": "code",
      "metadata": {
        "id": "H_EGZv1TL4S_",
        "colab": {
          "base_uri": "https://localhost:8080/"
        },
        "outputId": "d7117472-a1fe-4b8a-d489-a0c8d473bc2c"
      },
      "source": [
        "# Load Data\n",
        "cifar10 = tf.keras.datasets.cifar10\n",
        "\n",
        "(x_train, y_train), (x_test, y_test) = cifar10.load_data()\n",
        "x_train, x_test = x_train / 255.0, x_test / 255.0\n",
        "y_train, y_test = y_train.flatten(), y_test.flatten()\n",
        "print(\"x_train.shape: \", x_train.shape)\n",
        "print(\"y_train.shape: \", y_train.shape)\n",
        "print(y_train[0])\n",
        "print(\"x_test.shape: \", x_test.shape)\n",
        "print(\"y_test.shape: \", y_test.shape)"
      ],
      "execution_count": null,
      "outputs": [
        {
          "output_type": "stream",
          "name": "stdout",
          "text": [
            "x_train.shape:  (50000, 32, 32, 3)\n",
            "y_train.shape:  (50000,)\n",
            "6\n",
            "x_test.shape:  (10000, 32, 32, 3)\n",
            "y_test.shape:  (10000,)\n"
          ]
        }
      ]
    },
    {
      "cell_type": "code",
      "metadata": {
        "id": "1Wr15bYpMwbB",
        "colab": {
          "base_uri": "https://localhost:8080/"
        },
        "outputId": "8825b78c-25c0-4f83-8c7a-9dc8aa5ca461"
      },
      "source": [
        "# Number of Classes\n",
        "K = len(set(y_train))\n",
        "print(\"number of classes:\", K)"
      ],
      "execution_count": null,
      "outputs": [
        {
          "output_type": "stream",
          "name": "stdout",
          "text": [
            "number of classes: 10\n"
          ]
        }
      ]
    },
    {
      "cell_type": "code",
      "metadata": {
        "id": "Mmo66uQoMA1Q"
      },
      "source": [
        "# Build Model\n",
        "i = Input(shape=x_train[0].shape)\n",
        "\n",
        "x = Conv2D(32, (3, 3), activation='relu', padding='same')(i)\n",
        "x = BatchNormalization()(x)\n",
        "x = Conv2D(32, (3, 3), activation='relu', padding='same')(x)\n",
        "x = BatchNormalization()(x)\n",
        "x = MaxPooling2D((2, 2))(x)\n",
        "x = Conv2D(64, (3, 3), activation='relu', padding='same')(x)\n",
        "x = BatchNormalization()(x)\n",
        "x = Conv2D(64, (3, 3), activation='relu', padding='same')(x)\n",
        "x = BatchNormalization()(x)\n",
        "x = MaxPooling2D((2, 2))(x)\n",
        "x = Conv2D(128, (3, 3), activation='relu', padding='same')(x)\n",
        "x = BatchNormalization()(x)\n",
        "x = Conv2D(128, (3, 3), activation='relu', padding='same')(x)\n",
        "x = BatchNormalization()(x)\n",
        "x = MaxPooling2D((2, 2))(x)\n",
        "\n",
        "x = Flatten()(x)\n",
        "x = Dropout(0.2)(x)\n",
        "x = Dense(1024, activation='relu')(x)\n",
        "x = Dropout(0.2)(x)\n",
        "x = Dense(K, activation='softmax')(x)\n",
        "\n",
        "model = Model(i, x)"
      ],
      "execution_count": null,
      "outputs": []
    },
    {
      "cell_type": "code",
      "metadata": {
        "id": "0zF9n0P7NcP-"
      },
      "source": [
        "# Compile Model\n",
        "model.compile(optimizer='adam',\n",
        "              loss='sparse_categorical_crossentropy',\n",
        "              metrics=['accuracy'])"
      ],
      "execution_count": null,
      "outputs": []
    },
    {
      "cell_type": "code",
      "metadata": {
        "id": "af61hXUrYjsZ",
        "colab": {
          "base_uri": "https://localhost:8080/"
        },
        "outputId": "fe8ffc64-3b39-4323-86be-0e4c89524e1a"
      },
      "source": [
        "# Fit with data augmentation\n",
        "batch_size = 32\n",
        "data_generator = tf.keras.preprocessing.image.ImageDataGenerator(width_shift_range=0.1, height_shift_range=0.1, horizontal_flip=True)\n",
        "train_generator = data_generator.flow(x_train, y_train, batch_size)\n",
        "steps_per_epoch = x_train.shape[0] // batch_size\n",
        "r = model.fit(train_generator, validation_data=(x_test, y_test), steps_per_epoch=steps_per_epoch, epochs=50)"
      ],
      "execution_count": null,
      "outputs": [
        {
          "output_type": "stream",
          "name": "stdout",
          "text": [
            "Epoch 1/50\n",
            "1562/1562 [==============================] - 46s 24ms/step - loss: 1.4455 - accuracy: 0.4982 - val_loss: 1.1382 - val_accuracy: 0.5922\n",
            "Epoch 2/50\n",
            "1562/1562 [==============================] - 38s 24ms/step - loss: 0.9951 - accuracy: 0.6557 - val_loss: 0.8283 - val_accuracy: 0.7093\n",
            "Epoch 3/50\n",
            "1562/1562 [==============================] - 37s 23ms/step - loss: 0.8444 - accuracy: 0.7093 - val_loss: 0.8828 - val_accuracy: 0.7075\n",
            "Epoch 4/50\n",
            "1562/1562 [==============================] - 37s 23ms/step - loss: 0.7540 - accuracy: 0.7412 - val_loss: 0.7635 - val_accuracy: 0.7380\n",
            "Epoch 5/50\n",
            "1562/1562 [==============================] - 36s 23ms/step - loss: 0.6943 - accuracy: 0.7607 - val_loss: 0.7514 - val_accuracy: 0.7444\n",
            "Epoch 6/50\n",
            "1562/1562 [==============================] - 36s 23ms/step - loss: 0.6356 - accuracy: 0.7837 - val_loss: 0.6696 - val_accuracy: 0.7781\n",
            "Epoch 7/50\n",
            "1562/1562 [==============================] - 35s 23ms/step - loss: 0.5964 - accuracy: 0.7964 - val_loss: 0.6603 - val_accuracy: 0.7769\n",
            "Epoch 8/50\n",
            "1562/1562 [==============================] - 36s 23ms/step - loss: 0.5672 - accuracy: 0.8057 - val_loss: 0.6213 - val_accuracy: 0.7965\n",
            "Epoch 9/50\n",
            "1562/1562 [==============================] - 35s 22ms/step - loss: 0.5278 - accuracy: 0.8213 - val_loss: 0.5460 - val_accuracy: 0.8169\n",
            "Epoch 10/50\n",
            "1562/1562 [==============================] - 35s 22ms/step - loss: 0.5079 - accuracy: 0.8262 - val_loss: 0.5697 - val_accuracy: 0.8099\n",
            "Epoch 11/50\n",
            "1562/1562 [==============================] - 36s 23ms/step - loss: 0.4730 - accuracy: 0.8388 - val_loss: 0.4949 - val_accuracy: 0.8322\n",
            "Epoch 12/50\n",
            "1562/1562 [==============================] - 35s 23ms/step - loss: 0.4531 - accuracy: 0.8459 - val_loss: 0.5035 - val_accuracy: 0.8328\n",
            "Epoch 13/50\n",
            "1562/1562 [==============================] - 35s 22ms/step - loss: 0.4366 - accuracy: 0.8501 - val_loss: 0.4492 - val_accuracy: 0.8486\n",
            "Epoch 14/50\n",
            "1562/1562 [==============================] - 35s 22ms/step - loss: 0.4147 - accuracy: 0.8578 - val_loss: 0.4517 - val_accuracy: 0.8487\n",
            "Epoch 15/50\n",
            "1562/1562 [==============================] - 35s 22ms/step - loss: 0.4016 - accuracy: 0.8632 - val_loss: 0.4671 - val_accuracy: 0.8420\n",
            "Epoch 16/50\n",
            "1562/1562 [==============================] - 37s 24ms/step - loss: 0.3807 - accuracy: 0.8686 - val_loss: 0.4727 - val_accuracy: 0.8438\n",
            "Epoch 17/50\n",
            "1562/1562 [==============================] - 36s 23ms/step - loss: 0.3723 - accuracy: 0.8721 - val_loss: 0.4590 - val_accuracy: 0.8509\n",
            "Epoch 18/50\n",
            "1562/1562 [==============================] - 36s 23ms/step - loss: 0.3590 - accuracy: 0.8756 - val_loss: 0.4651 - val_accuracy: 0.8536\n",
            "Epoch 19/50\n",
            "1562/1562 [==============================] - 36s 23ms/step - loss: 0.3505 - accuracy: 0.8792 - val_loss: 0.4147 - val_accuracy: 0.8606\n",
            "Epoch 20/50\n",
            "1562/1562 [==============================] - 36s 23ms/step - loss: 0.3354 - accuracy: 0.8849 - val_loss: 0.4376 - val_accuracy: 0.8547\n",
            "Epoch 21/50\n",
            "1562/1562 [==============================] - 35s 23ms/step - loss: 0.3255 - accuracy: 0.8881 - val_loss: 0.4801 - val_accuracy: 0.8505\n",
            "Epoch 22/50\n",
            "1562/1562 [==============================] - 35s 22ms/step - loss: 0.3189 - accuracy: 0.8892 - val_loss: 0.4124 - val_accuracy: 0.8647\n",
            "Epoch 23/50\n",
            "1562/1562 [==============================] - 35s 23ms/step - loss: 0.3059 - accuracy: 0.8932 - val_loss: 0.4218 - val_accuracy: 0.8712\n",
            "Epoch 24/50\n",
            "1562/1562 [==============================] - 36s 23ms/step - loss: 0.2984 - accuracy: 0.8974 - val_loss: 0.4195 - val_accuracy: 0.8670\n",
            "Epoch 25/50\n",
            "1562/1562 [==============================] - 36s 23ms/step - loss: 0.2907 - accuracy: 0.8982 - val_loss: 0.4564 - val_accuracy: 0.8510\n",
            "Epoch 26/50\n",
            "1562/1562 [==============================] - 37s 24ms/step - loss: 0.2828 - accuracy: 0.9030 - val_loss: 0.4248 - val_accuracy: 0.8638\n",
            "Epoch 27/50\n",
            "1562/1562 [==============================] - 36s 23ms/step - loss: 0.2804 - accuracy: 0.9030 - val_loss: 0.4304 - val_accuracy: 0.8632\n",
            "Epoch 28/50\n",
            "1562/1562 [==============================] - 35s 22ms/step - loss: 0.2664 - accuracy: 0.9078 - val_loss: 0.4169 - val_accuracy: 0.8635\n",
            "Epoch 29/50\n",
            "1562/1562 [==============================] - 35s 22ms/step - loss: 0.2647 - accuracy: 0.9092 - val_loss: 0.4354 - val_accuracy: 0.8619\n",
            "Epoch 30/50\n",
            "1562/1562 [==============================] - 35s 22ms/step - loss: 0.2534 - accuracy: 0.9120 - val_loss: 0.4196 - val_accuracy: 0.8631\n",
            "Epoch 31/50\n",
            "1562/1562 [==============================] - 35s 23ms/step - loss: 0.2504 - accuracy: 0.9135 - val_loss: 0.4412 - val_accuracy: 0.8670\n",
            "Epoch 32/50\n",
            "1562/1562 [==============================] - 36s 23ms/step - loss: 0.2481 - accuracy: 0.9133 - val_loss: 0.4335 - val_accuracy: 0.8611\n",
            "Epoch 33/50\n",
            "1562/1562 [==============================] - 36s 23ms/step - loss: 0.2395 - accuracy: 0.9169 - val_loss: 0.4167 - val_accuracy: 0.8707\n",
            "Epoch 34/50\n",
            "1562/1562 [==============================] - 35s 22ms/step - loss: 0.2380 - accuracy: 0.9176 - val_loss: 0.4320 - val_accuracy: 0.8672\n",
            "Epoch 35/50\n",
            "1562/1562 [==============================] - 35s 23ms/step - loss: 0.2328 - accuracy: 0.9206 - val_loss: 0.3720 - val_accuracy: 0.8837\n",
            "Epoch 36/50\n",
            "1562/1562 [==============================] - 37s 23ms/step - loss: 0.2267 - accuracy: 0.9225 - val_loss: 0.3838 - val_accuracy: 0.8824\n",
            "Epoch 37/50\n",
            "1562/1562 [==============================] - 35s 23ms/step - loss: 0.2274 - accuracy: 0.9225 - val_loss: 0.3771 - val_accuracy: 0.8817\n",
            "Epoch 38/50\n",
            "1562/1562 [==============================] - 35s 23ms/step - loss: 0.2182 - accuracy: 0.9240 - val_loss: 0.4283 - val_accuracy: 0.8694\n",
            "Epoch 39/50\n",
            "1562/1562 [==============================] - 35s 23ms/step - loss: 0.2165 - accuracy: 0.9247 - val_loss: 0.4545 - val_accuracy: 0.8612\n",
            "Epoch 40/50\n",
            "1562/1562 [==============================] - 35s 22ms/step - loss: 0.2119 - accuracy: 0.9271 - val_loss: 0.4229 - val_accuracy: 0.8751\n",
            "Epoch 41/50\n",
            "1562/1562 [==============================] - 35s 22ms/step - loss: 0.2097 - accuracy: 0.9279 - val_loss: 0.4148 - val_accuracy: 0.8723\n",
            "Epoch 42/50\n",
            "1562/1562 [==============================] - 35s 23ms/step - loss: 0.2055 - accuracy: 0.9294 - val_loss: 0.4144 - val_accuracy: 0.8756\n",
            "Epoch 43/50\n",
            "1562/1562 [==============================] - 35s 23ms/step - loss: 0.2071 - accuracy: 0.9286 - val_loss: 0.4119 - val_accuracy: 0.8784\n",
            "Epoch 44/50\n",
            "1562/1562 [==============================] - 35s 22ms/step - loss: 0.1963 - accuracy: 0.9323 - val_loss: 0.4068 - val_accuracy: 0.8836\n",
            "Epoch 45/50\n",
            "1562/1562 [==============================] - 35s 22ms/step - loss: 0.1965 - accuracy: 0.9314 - val_loss: 0.4033 - val_accuracy: 0.8825\n",
            "Epoch 46/50\n",
            "1562/1562 [==============================] - 37s 24ms/step - loss: 0.1978 - accuracy: 0.9318 - val_loss: 0.3954 - val_accuracy: 0.8836\n",
            "Epoch 47/50\n",
            "1562/1562 [==============================] - 35s 22ms/step - loss: 0.1934 - accuracy: 0.9343 - val_loss: 0.4317 - val_accuracy: 0.8762\n",
            "Epoch 48/50\n",
            "1562/1562 [==============================] - 35s 23ms/step - loss: 0.1940 - accuracy: 0.9336 - val_loss: 0.4254 - val_accuracy: 0.8801\n",
            "Epoch 49/50\n",
            "1562/1562 [==============================] - 35s 22ms/step - loss: 0.1894 - accuracy: 0.9359 - val_loss: 0.3778 - val_accuracy: 0.8891\n",
            "Epoch 50/50\n",
            "1562/1562 [==============================] - 35s 23ms/step - loss: 0.1880 - accuracy: 0.9363 - val_loss: 0.4024 - val_accuracy: 0.8821\n"
          ]
        }
      ]
    },
    {
      "cell_type": "code",
      "metadata": {
        "id": "ML37hw4iOkBm",
        "colab": {
          "base_uri": "https://localhost:8080/",
          "height": 282
        },
        "outputId": "d68aee0f-df48-4810-c6da-9ce5d50d78aa"
      },
      "source": [
        "# Plot Loss\n",
        "import matplotlib.pyplot as plt\n",
        "plt.plot(r.history['loss'], label='loss')\n",
        "plt.plot(r.history['val_loss'], label='val_loss')\n",
        "plt.legend()"
      ],
      "execution_count": null,
      "outputs": [
        {
          "output_type": "execute_result",
          "data": {
            "text/plain": [
              "<matplotlib.legend.Legend at 0x7fc3bc1690d0>"
            ]
          },
          "metadata": {},
          "execution_count": 10
        },
        {
          "output_type": "display_data",
          "data": {
            "text/plain": [
              "<Figure size 432x288 with 1 Axes>"
            ],
            "image/png": "[encoded data removed]"
          },
          "metadata": {
            "needs_background": "light"
          }
        }
      ]
    },
    {
      "cell_type": "code",
      "metadata": {
        "id": "pemstSDIOpIb",
        "colab": {
          "base_uri": "https://localhost:8080/",
          "height": 282
        },
        "outputId": "4eb145c5-5cdf-4379-e481-e093f9315feb"
      },
      "source": [
        "# Plot Αccuracy\n",
        "plt.plot(r.history['accuracy'], label='acc')\n",
        "plt.plot(r.history['val_accuracy'], label='val_acc')\n",
        "plt.legend()"
      ],
      "execution_count": null,
      "outputs": [
        {
          "output_type": "execute_result",
          "data": {
            "text/plain": [
              "<matplotlib.legend.Legend at 0x7fc3bc123190>"
            ]
          },
          "metadata": {},
          "execution_count": 11
        },
        {
          "output_type": "display_data",
          "data": {
            "text/plain": [
              "<Figure size 432x288 with 1 Axes>"
            ],
            "image/png": "[encoded data removed]"
          },
          "metadata": {
            "needs_background": "light"
          }
        }
      ]
    },
    {
      "cell_type": "code",
      "metadata": {
        "id": "2LJTd4OiO6kL",
        "colab": {
          "base_uri": "https://localhost:8080/",
          "height": 519
        },
        "outputId": "91cc01a1-9ae9-4bad-fc4d-1c0252b49de3"
      },
      "source": [
        "# Confusion Matrix\n",
        "from sklearn.metrics import confusion_matrix\n",
        "import itertools\n",
        "\n",
        "def plot_confusion_matrix(cm, classes,\n",
        "                          normalize=False,\n",
        "                          title='Confusion matrix',\n",
        "                          cmap=plt.cm.Blues):\n",
        "  \"\"\"\n",
        "  This function prints and plots the confusion matrix.\n",
        "  Normalization can be applied by setting `normalize=True`.\n",
        "  \"\"\"\n",
        "  if normalize:\n",
        "      cm = cm.astype('float') / cm.sum(axis=1)[:, np.newaxis]\n",
        "      print(\"Normalized confusion matrix\")\n",
        "  else:\n",
        "      print('Confusion matrix, without normalization')\n",
        "\n",
        "  print(cm)\n",
        "\n",
        "  plt.imshow(cm, interpolation='nearest', cmap=cmap)\n",
        "  plt.title(title)\n",
        "  plt.colorbar()\n",
        "  tick_marks = np.arange(len(classes))\n",
        "  plt.xticks(tick_marks, classes, rotation=45)\n",
        "  plt.yticks(tick_marks, classes)\n",
        "\n",
        "  fmt = '.2f' if normalize else 'd'\n",
        "  thresh = cm.max() / 2.\n",
        "  for i, j in itertools.product(range(cm.shape[0]), range(cm.shape[1])):\n",
        "      plt.text(j, i, format(cm[i, j], fmt),\n",
        "               horizontalalignment=\"center\",\n",
        "               color=\"white\" if cm[i, j] > thresh else \"black\")\n",
        "\n",
        "  plt.tight_layout()\n",
        "  plt.ylabel('True label')\n",
        "  plt.xlabel('Predicted label')\n",
        "  plt.show()\n",
        "\n",
        "\n",
        "p_test = model.predict(x_test).argmax(axis=1)\n",
        "cm = confusion_matrix(y_test, p_test)\n",
        "plot_confusion_matrix(cm, list(range(10)))\n",
        "\n"
      ],
      "execution_count": null,
      "outputs": [
        {
          "output_type": "stream",
          "name": "stdout",
          "text": [
            "313/313 [==============================] - 1s 3ms/step\n",
            "Confusion matrix, without normalization\n",
            "[[889   7  27  12  11   7   3   3  27  14]\n",
            " [  6 946   0   2   2   0   3   3   7  31]\n",
            " [ 21   0 839  24  39  20  45   9   2   1]\n",
            " [ 14   1  36 764  39  63  56  17   7   3]\n",
            " [  5   1  24  23 900   8  31   8   0   0]\n",
            " [  4   0  25 100  33 795  26  15   1   1]\n",
            " [  4   1  17  22   7   6 939   3   1   0]\n",
            " [  4   0   9  22  30  17   6 907   2   3]\n",
            " [ 36   3   7  10   5   1  14   0 907  17]\n",
            " [  8  33   2   6   3   0   5   0   8 935]]\n"
          ]
        },
        {
          "output_type": "display_data",
          "data": {
            "text/plain": [
              "<Figure size 432x288 with 2 Axes>"
            ],
            "image/png": "[encoded data removed]"
          },
          "metadata": {
            "needs_background": "light"
          }
        }
      ]
    },
    {
      "cell_type": "code",
      "metadata": {
        "id": "AgQqQHXNXDgw"
      },
      "source": [
        "# Label Mapping\n",
        "labels = '''airplane\n",
        "automobile\n",
        "bird\n",
        "cat\n",
        "deer\n",
        "dog\n",
        "frog\n",
        "horse\n",
        "ship\n",
        "truck'''.split()"
      ],
      "execution_count": null,
      "outputs": []
    },
    {
      "cell_type": "code",
      "metadata": {
        "id": "jjmW4STFO-Ny",
        "colab": {
          "base_uri": "https://localhost:8080/",
          "height": 281
        },
        "outputId": "49426f1e-512d-4a3a-e3e9-dcab9fbb482d"
      },
      "source": [
        "# Misclassified Examples\n",
        "misclassified_idx = np.where(p_test != y_test)[0]\n",
        "i = np.random.choice(misclassified_idx)\n",
        "plt.imshow(x_test[i], cmap='gray')\n",
        "plt.title(\"True label: %s Predicted: %s\" % (labels[y_test[i]], labels[p_test[i]]));"
      ],
      "execution_count": null,
      "outputs": [
        {
          "output_type": "display_data",
          "data": {
            "text/plain": [
              "<Figure size 432x288 with 1 Axes>"
            ],
            "image/png": "[encoded data removed]"
          },
          "metadata": {
            "needs_background": "light"
          }
        }
      ]
    },
    {
      "cell_type": "code",
      "metadata": {
        "id": "qNw6PmshWjoZ",
        "colab": {
          "base_uri": "https://localhost:8080/",
          "height": 867
        },
        "outputId": "2c6b2193-df37-4083-8f74-a22733ec65f3"
      },
      "source": [
        "# Now that the model is so large, it's useful to summarize it\n",
        "model.summary()"
      ],
      "execution_count": null,
      "outputs": [
        {
          "output_type": "stream",
          "text": [
            "Model: \"model\"\n",
            "_________________________________________________________________\n",
            "Layer (type)                 Output Shape              Param #   \n",
            "=================================================================\n",
            "input_1 (InputLayer)         [(None, 32, 32, 3)]       0         \n",
            "_________________________________________________________________\n",
            "conv2d (Conv2D)              (None, 32, 32, 32)        896       \n",
            "_________________________________________________________________\n",
            "batch_normalization (BatchNo (None, 32, 32, 32)        128       \n",
            "_________________________________________________________________\n",
            "conv2d_1 (Conv2D)            (None, 32, 32, 32)        9248      \n",
            "_________________________________________________________________\n",
            "batch_normalization_1 (Batch (None, 32, 32, 32)        128       \n",
            "_________________________________________________________________\n",
            "max_pooling2d (MaxPooling2D) (None, 16, 16, 32)        0         \n",
            "_________________________________________________________________\n",
            "conv2d_2 (Conv2D)            (None, 16, 16, 64)        18496     \n",
            "_________________________________________________________________\n",
            "batch_normalization_2 (Batch (None, 16, 16, 64)        256       \n",
            "_________________________________________________________________\n",
            "conv2d_3 (Conv2D)            (None, 16, 16, 64)        36928     \n",
            "_________________________________________________________________\n",
            "batch_normalization_3 (Batch (None, 16, 16, 64)        256       \n",
            "_________________________________________________________________\n",
            "max_pooling2d_1 (MaxPooling2 (None, 8, 8, 64)          0         \n",
            "_________________________________________________________________\n",
            "conv2d_4 (Conv2D)            (None, 8, 8, 128)         73856     \n",
            "_________________________________________________________________\n",
            "batch_normalization_4 (Batch (None, 8, 8, 128)         512       \n",
            "_________________________________________________________________\n",
            "conv2d_5 (Conv2D)            (None, 8, 8, 128)         147584    \n",
            "_________________________________________________________________\n",
            "batch_normalization_5 (Batch (None, 8, 8, 128)         512       \n",
            "_________________________________________________________________\n",
            "max_pooling2d_2 (MaxPooling2 (None, 4, 4, 128)         0         \n",
            "_________________________________________________________________\n",
            "flatten (Flatten)            (None, 2048)              0         \n",
            "_________________________________________________________________\n",
            "dropout (Dropout)            (None, 2048)              0         \n",
            "_________________________________________________________________\n",
            "dense (Dense)                (None, 1024)              2098176   \n",
            "_________________________________________________________________\n",
            "dropout_1 (Dropout)          (None, 1024)              0         \n",
            "_________________________________________________________________\n",
            "dense_1 (Dense)              (None, 10)                10250     \n",
            "=================================================================\n",
            "Total params: 2,397,226\n",
            "Trainable params: 2,396,330\n",
            "Non-trainable params: 896\n",
            "_________________________________________________________________\n"
          ],
          "name": "stdout"
        }
      ]
    }
  ]
}